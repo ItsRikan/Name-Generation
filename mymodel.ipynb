{
 "cells": [
  {
   "cell_type": "code",
   "execution_count": 1,
   "id": "51b8bd21",
   "metadata": {},
   "outputs": [],
   "source": [
    "import torch\n",
    "import torch.nn.functional as F\n",
    "from torch import Generator\n",
    "import matplotlib.pyplot as plt"
   ]
  },
  {
   "cell_type": "code",
   "execution_count": 2,
   "id": "d1041deb",
   "metadata": {},
   "outputs": [
    {
     "data": {
      "text/plain": [
       "['emma', 'olivia', 'ava', 'isabella']"
      ]
     },
     "execution_count": 2,
     "metadata": {},
     "output_type": "execute_result"
    }
   ],
   "source": [
    "names=open('names.txt','r').read().splitlines()\n",
    "names[:4]"
   ]
  },
  {
   "cell_type": "code",
   "execution_count": 3,
   "id": "8ff8a268",
   "metadata": {},
   "outputs": [],
   "source": [
    "chars=sorted(list(set(''.join(names))))\n",
    "stoi={s:i+1 for i,s in enumerate(chars)}\n",
    "stoi['.']=0\n",
    "itos={i:s for s,i in stoi.items()}"
   ]
  },
  {
   "cell_type": "code",
   "execution_count": 4,
   "id": "c13cfdfc",
   "metadata": {},
   "outputs": [],
   "source": [
    "block_size=4\n",
    "embedding_size=10\n",
    "hidden_neurons=200\n",
    "vocab_size=27"
   ]
  },
  {
   "cell_type": "code",
   "execution_count": 5,
   "id": "fe94f4c5",
   "metadata": {},
   "outputs": [
    {
     "name": "stdout",
     "output_type": "stream",
     "text": [
      "Training :  torch.Size([182625, 4]) torch.Size([182625])\n",
      "Validation :  torch.Size([22655, 4]) torch.Size([22655])\n",
      "Testing :  torch.Size([22866, 4]) torch.Size([22866])\n"
     ]
    }
   ],
   "source": [
    "import random\n",
    "def build_tensor(words):\n",
    "    X,y=[],[]\n",
    "    for word in words:\n",
    "        word = list(word) + ['.']\n",
    "        context=[0] * block_size\n",
    "        for w in word:\n",
    "            X.append(context)\n",
    "            idx=stoi[w]\n",
    "            y.append(idx)\n",
    "            context=context[1:]+[idx]\n",
    "    X=torch.tensor(X)\n",
    "    y=torch.tensor(y)\n",
    "    return X,y\n",
    "random.seed(42)\n",
    "random.shuffle(names)\n",
    "n1=int(0.8 * len(names))\n",
    "n2=int(0.9 * len(names))\n",
    "\n",
    "x_train,y_train=build_tensor(names[:n1])\n",
    "x_val,y_val=build_tensor(names[n1:n2])\n",
    "x_test,y_test=build_tensor(names[n2:])\n",
    "\n",
    "print(\"Training : \",x_train.shape,y_train.shape)\n",
    "print(\"Validation : \",x_val.shape,y_val.shape)\n",
    "print(\"Testing : \",x_test.shape,y_test.shape)\n"
   ]
  },
  {
   "cell_type": "code",
   "execution_count": 6,
   "id": "bbcbad8f",
   "metadata": {},
   "outputs": [
    {
     "data": {
      "text/plain": [
       "(tensor([[ 0,  0,  0,  0],\n",
       "         [ 0,  0,  0, 25],\n",
       "         [ 0,  0, 25, 21],\n",
       "         [ 0, 25, 21,  8],\n",
       "         [25, 21,  8,  5],\n",
       "         [21,  8,  5, 14],\n",
       "         [ 8,  5, 14,  7],\n",
       "         [ 0,  0,  0,  0],\n",
       "         [ 0,  0,  0,  4],\n",
       "         [ 0,  0,  4,  9]]),\n",
       " tensor([25, 21,  8,  5, 14,  7,  0,  4,  9, 15]))"
      ]
     },
     "execution_count": 6,
     "metadata": {},
     "output_type": "execute_result"
    }
   ],
   "source": [
    "x_train[:10],y_train[:10]"
   ]
  },
  {
   "cell_type": "code",
   "execution_count": 73,
   "id": "8cadb34c",
   "metadata": {},
   "outputs": [],
   "source": [
    "g=Generator().manual_seed(27654839)\n",
    "C=torch.randn((vocab_size,embedding_size),generator=g)\n",
    "\n",
    "# For first net (Sigmoid function)\n",
    "W11=torch.randn((embedding_size * block_size,hidden_neurons),generator=g) # * (1/(embedding_size * block_size))**0.5\n",
    "b11=torch.randn((hidden_neurons,),generator=g)# * (2/(hidden_neurons))**0.5\n",
    "\n",
    "W12=torch.randn((hidden_neurons,embedding_size * block_size),generator=g)# * (2/(hidden_neurons))**0.5\n",
    "b12=torch.randn((embedding_size * block_size,),generator=g) #* (2/(embedding_size * block_size))**0.5\n",
    "\n",
    "\n",
    "W21=torch.randn((embedding_size * block_size * 2,hidden_neurons),generator=g)# * 0.5\n",
    "b21=torch.randn((hidden_neurons,),generator=g)# * (2/hidden_neurons)**0.5\n",
    "\n",
    "W22=torch.randn((hidden_neurons,vocab_size),generator=g) * 0.01\n",
    "b22=torch.randn((vocab_size,),generator=g) * 0\n",
    "\n",
    "nbias=torch.zeros((hidden_neurons))\n",
    "ngains=torch.ones((hidden_neurons))\n"
   ]
  },
  {
   "cell_type": "code",
   "execution_count": 74,
   "id": "7af6e057",
   "metadata": {},
   "outputs": [],
   "source": [
    "parameters=[C,W11,b11,W12,b12,W21,b21,W22,b22,nbias,ngains]\n",
    "batch=100\n",
    "for p in parameters:\n",
    "    p.requires_grad=True"
   ]
  },
  {
   "cell_type": "code",
   "execution_count": 75,
   "id": "358a12e6",
   "metadata": {},
   "outputs": [
    {
     "name": "stdout",
     "output_type": "stream",
     "text": [
      "2.0406246185302734\n"
     ]
    }
   ],
   "source": [
    "for i in range (60000):\n",
    "    ix=torch.randint(0,x_train.shape[0],(batch,))\n",
    "    Ct=torch.cat(C[x_train[ix]].unbind(1),1)\n",
    "    lr=0.1 if i<30000 else 0.01\n",
    "    \n",
    "    z11 = Ct @ W11 + b11\n",
    "    z11= ngains * ((z11 - z11.mean(0))/z11.std(0)) + nbias\n",
    "    a11 = z11.tanh()\n",
    "    z12 = a11 @ W12 + b12\n",
    "\n",
    "    a12sig = z12.sigmoid()\n",
    "    a12tanh=z12.tanh()\n",
    "\n",
    "    It = a12sig * a12tanh\n",
    "\n",
    "    Ct= (Ct * a12sig) + It\n",
    "    Ot= torch.cat((Ct.tanh() , a12sig),dim=1)\n",
    "    \n",
    "    z21 = Ot @ W21 + b21\n",
    "    a21=z21.tanh()\n",
    "    z22 = a21 @ W22 + b22\n",
    "    loss=F.cross_entropy(z22,y_train[ix])\n",
    "    \n",
    "    for p in parameters:\n",
    "        p.grad=None\n",
    "    loss.backward()\n",
    "    for p in parameters:\n",
    "        p.data -= lr * p.grad\n",
    "\n",
    "        \n",
    "print(loss.item())\n",
    "    \n"
   ]
  },
  {
   "cell_type": "code",
   "execution_count": 86,
   "id": "382cc669",
   "metadata": {},
   "outputs": [],
   "source": [
    "with torch.no_grad():\n",
    "    emb=torch.cat(C[x_train].unbind(1),1)\n",
    "    zemb=emb @ W11 + b11\n",
    "    bnstd=zemb.std(0)\n",
    "    bnmean=zemb.mean(0)"
   ]
  },
  {
   "cell_type": "code",
   "execution_count": 88,
   "id": "dec83faa",
   "metadata": {},
   "outputs": [
    {
     "name": "stdout",
     "output_type": "stream",
     "text": [
      "2.0890700817108154\n"
     ]
    }
   ],
   "source": [
    "Ct=torch.cat(C[x_train].unbind(1),1)\n",
    "z11 = Ct @ W11 + b11\n",
    "z11= ngains * ((z11 - bnmean)/bnstd) + nbias\n",
    "a11 = z11.tanh()\n",
    "z12 = a11 @ W12 + b12\n",
    "a12sig = z12.sigmoid()\n",
    "a12tanh=z12.tanh()\n",
    "It = a12sig * a12tanh\n",
    "Ct= (Ct * a12sig) + It\n",
    "Ot= torch.cat((Ct.tanh() , a12sig),dim=1)\n",
    "z21 = Ot @ W21 + b21\n",
    "a21=z21.tanh()\n",
    "z22 = a21 @ W22 + b22\n",
    "loss=F.cross_entropy(z22,y_train)\n",
    "print(loss.item())"
   ]
  },
  {
   "cell_type": "code",
   "execution_count": 89,
   "id": "1b58c5bb",
   "metadata": {},
   "outputs": [
    {
     "name": "stdout",
     "output_type": "stream",
     "text": [
      "2.1376121044158936\n"
     ]
    }
   ],
   "source": [
    "Ct=torch.cat(C[x_test].unbind(1),1)\n",
    "z11 = Ct @ W11 + b11\n",
    "z11= ngains * ((z11 - bnmean)/bnstd) + nbias\n",
    "a11 = z11.tanh()\n",
    "z12 = a11 @ W12 + b12\n",
    "a12sig = z12.sigmoid()\n",
    "a12tanh=z12.tanh()\n",
    "It = a12sig * a12tanh\n",
    "Ct= (Ct * a12sig) + It\n",
    "Ot= torch.cat((Ct.tanh() , a12sig),dim=1)\n",
    "z21 = Ot @ W21 + b21\n",
    "a21=z21.tanh()\n",
    "z22 = a21 @ W22 + b22\n",
    "loss=F.cross_entropy(z22,y_test)\n",
    "print(loss.item())"
   ]
  },
  {
   "cell_type": "code",
   "execution_count": 90,
   "id": "8f98e047",
   "metadata": {},
   "outputs": [
    {
     "name": "stdout",
     "output_type": "stream",
     "text": [
      "2.147047758102417\n"
     ]
    }
   ],
   "source": [
    "Ct=torch.cat(C[x_val].unbind(1),1)\n",
    "z11 = Ct @ W11 + b11\n",
    "z11= ngains * ((z11 - bnmean)/bnstd) + nbias\n",
    "a11 = z11.tanh()\n",
    "z12 = a11 @ W12 + b12\n",
    "a12sig = z12.sigmoid()\n",
    "a12tanh=z12.tanh()\n",
    "It = a12sig * a12tanh\n",
    "Ct= (Ct * a12sig) + It\n",
    "Ot= torch.cat((Ct.tanh() , a12sig),dim=1)\n",
    "z21 = Ot @ W21 + b21\n",
    "a21=z21.tanh()\n",
    "z22 = a21 @ W22 + b22\n",
    "loss=F.cross_entropy(z22,y_val)\n",
    "print(loss.item())"
   ]
  },
  {
   "cell_type": "code",
   "execution_count": null,
   "id": "b1de3b98",
   "metadata": {},
   "outputs": [
    {
     "name": "stdout",
     "output_type": "stream",
     "text": [
      "torch.Size([1, 27])\n",
      "torch.Size([1, 27])\n",
      "torch.Size([1, 27])\n",
      "torch.Size([1, 27])\n",
      "torch.Size([1, 27])\n",
      "torch.Size([1, 27])\n",
      "torch.Size([1, 27])\n",
      "torch.Size([1, 27])\n",
      "torch.Size([1, 27])\n",
      "torch.Size([1, 27])\n",
      "torch.Size([1, 27])\n",
      "torch.Size([1, 27])\n",
      "torch.Size([1, 27])\n",
      "torch.Size([1, 27])\n",
      "torch.Size([1, 27])\n",
      "torch.Size([1, 27])\n",
      "torch.Size([1, 27])\n",
      "torch.Size([1, 27])\n",
      "torch.Size([1, 27])\n",
      "torch.Size([1, 27])\n",
      "torch.Size([1, 27])\n",
      "torch.Size([1, 27])\n",
      "torch.Size([1, 27])\n",
      "torch.Size([1, 27])\n",
      "torch.Size([1, 27])\n",
      "torch.Size([1, 27])\n",
      "torch.Size([1, 27])\n",
      "torch.Size([1, 27])\n",
      "torch.Size([1, 27])\n",
      "torch.Size([1, 27])\n",
      "torch.Size([1, 27])\n",
      "torch.Size([1, 27])\n",
      "torch.Size([1, 27])\n",
      "torch.Size([1, 27])\n",
      "torch.Size([1, 27])\n",
      "torch.Size([1, 27])\n",
      "torch.Size([1, 27])\n",
      "torch.Size([1, 27])\n",
      "torch.Size([1, 27])\n",
      "eisoaaeaotyyaeieeeyoizioyeaiaiiyeoaott\n"
     ]
    }
   ],
   "source": [
    "context = [0] * block_size\n",
    "Ct = torch.zeros((1, embedding_size * block_size))\n",
    "name = ''\n",
    "\n",
    "while True:\n",
    "    Z = torch.cat(C[context].unbind(1), dim=0).unsqueeze(0)\n",
    "    z11 = Z @ W11 + b11\n",
    "    z11= ngains * ((z11 - bnmean)/bnstd) + nbias\n",
    "    a11 = z11.tanh()\n",
    "    z12 = a11 @ W12 + b12\n",
    "    a12sig = z12.sigmoid()\n",
    "    a12tanh = z12.tanh()\n",
    "    It = a12sig * a12tanh\n",
    "    Ct = (Ct * a12sig) + It\n",
    "    Ot = torch.cat((Ct.tanh(), a12sig), dim=1)\n",
    "    z21 = Ot @ W21 + b21\n",
    "    a21 = z21.tanh()\n",
    "    z22 = a21 @ W22 + b22\n",
    "    a22 = z22.softmax(dim=1)\n",
    "    idx = torch.multinomial(a22, num_samples=1).item()\n",
    "    if idx == 0:\n",
    "        break\n",
    "    name += itos[idx]\n",
    "    context = context[1:] + [idx]\n",
    "print(name)\n"
   ]
  }
 ],
 "metadata": {
  "kernelspec": {
   "display_name": "Python 3",
   "language": "python",
   "name": "python3"
  },
  "language_info": {
   "codemirror_mode": {
    "name": "ipython",
    "version": 3
   },
   "file_extension": ".py",
   "mimetype": "text/x-python",
   "name": "python",
   "nbconvert_exporter": "python",
   "pygments_lexer": "ipython3",
   "version": "3.13.5"
  }
 },
 "nbformat": 4,
 "nbformat_minor": 5
}
