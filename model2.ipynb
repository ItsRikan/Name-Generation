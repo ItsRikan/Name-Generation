{
 "cells": [
  {
   "cell_type": "code",
   "execution_count": 2,
   "id": "3107930e",
   "metadata": {},
   "outputs": [],
   "source": [
    "import torch\n",
    "import torch.nn.functional as F\n",
    "from torch import Generator\n",
    "import matplotlib.pyplot as plt"
   ]
  },
  {
   "cell_type": "code",
   "execution_count": 3,
   "id": "3203c37f",
   "metadata": {},
   "outputs": [
    {
     "data": {
      "text/plain": [
       "['emma', 'olivia', 'ava', 'isabella', 'sophia', 'charlotte']"
      ]
     },
     "execution_count": 3,
     "metadata": {},
     "output_type": "execute_result"
    }
   ],
   "source": [
    "words=open('names.txt','r').read().splitlines()\n",
    "words[:6]"
   ]
  },
  {
   "cell_type": "code",
   "execution_count": 4,
   "id": "2dc25775",
   "metadata": {},
   "outputs": [],
   "source": [
    "chars=sorted(list(set(''.join(words))))\n",
    "stoi={s:i+1 for i,s in enumerate(chars)}\n",
    "stoi['.']=0\n",
    "itos={i:s for s,i in stoi.items()}"
   ]
  },
  {
   "cell_type": "code",
   "execution_count": 5,
   "id": "8ea08cfc",
   "metadata": {},
   "outputs": [
    {
     "name": "stdout",
     "output_type": "stream",
     "text": [
      "Train :  torch.Size([182625, 4]) torch.Size([182625])\n",
      "Validation :  torch.Size([22655, 4]) torch.Size([22655])\n",
      "Test :  torch.Size([22866, 4]) torch.Size([22866])\n"
     ]
    }
   ],
   "source": [
    "block_size=4\n",
    "def build_sets(words):\n",
    "    X,y=[],[]\n",
    "    for w in words:\n",
    "        w = w + '.'\n",
    "        context=[0]*block_size\n",
    "        for i in w:\n",
    "            idx=stoi[i]\n",
    "            X.append(context)\n",
    "            y.append(idx)\n",
    "            context=context[1:] + [idx]\n",
    "    X=torch.tensor(X)\n",
    "    y=torch.tensor(y)\n",
    "    return X,y\n",
    "\n",
    "import random\n",
    "random.seed(42)\n",
    "random.shuffle(words)\n",
    "n1=int(0.8 * len(words))\n",
    "n2=int(0.9 * len(words))\n",
    "\n",
    "x_train,y_train=build_sets(words[:n1])\n",
    "x_val,y_val=build_sets(words[n1:n2])\n",
    "x_test,y_test=build_sets(words[n2:])\n",
    "\n",
    "print(\"Train : \",x_train.shape,y_train.shape)\n",
    "print(\"Validation : \",x_val.shape,y_val.shape)\n",
    "print(\"Test : \",x_test.shape,y_test.shape)"
   ]
  },
  {
   "cell_type": "code",
   "execution_count": 6,
   "id": "02bd1284",
   "metadata": {},
   "outputs": [],
   "source": [
    "g=Generator().manual_seed(2147483647)\n",
    "\n",
    "W1=torch.randn((27,10),generator=g)\n",
    "\n",
    "W2=torch.randn((block_size*10,300),generator=g)\n",
    "b2=torch.randn((300,),generator=g)\n",
    "\n",
    "W3=torch.randn((300,300),generator=g)\n",
    "b3=torch.randn((300,),generator=g)\n",
    "\n",
    "W4=torch.randn((300,27),generator=g) * 0.01\n",
    "b4=torch.randn((27,),generator=g) * 0"
   ]
  },
  {
   "cell_type": "code",
   "execution_count": 7,
   "id": "e50b5250",
   "metadata": {},
   "outputs": [],
   "source": [
    "parameters=[W1,W2,W3,b2,b3,W4,b4]\n",
    "batch_size=32\n",
    "for p in parameters:\n",
    "    p.requires_grad=True"
   ]
  },
  {
   "cell_type": "code",
   "execution_count": null,
   "id": "ec938d0f",
   "metadata": {},
   "outputs": [
    {
     "name": "stdout",
     "output_type": "stream",
     "text": [
      "torch.Size([32, 40]) torch.Size([40, 300])\n",
      "3.2963805198669434\n"
     ]
    }
   ],
   "source": [
    "\"\"\"lre=torch.linspace(-3,0,10000)\n",
    "lrs=10**lre\n",
    "lossi=[]\n",
    "lri=[]\"\"\"\n",
    "for i in range(100000):\n",
    "    ix=torch.randint(0,x_train.shape[0],(batch_size,))\n",
    "    lr=0.1 if i<50000 else 0.01\n",
    "    #lr=lr/(1 + 0.01)\n",
    "    z1=torch.cat(W1[x_train[ix]].unbind(1),1)\n",
    "    # Second Layer with tanh\n",
    "    #print(z1.shape,W2.shape)\n",
    "    z2= z1 @ W2 + b2\n",
    "    a2=z2.tanh()\n",
    "    # Third Layer\n",
    "    z3= a2 @ W3 + b3\n",
    "    a3=z3.tanh() \n",
    "    # Third Layer with Softmax\n",
    "    z4= a3 @ W4 + b4\n",
    "    # z3.shape\n",
    "    # a3=z3.softmax(dim=1,dtype=torch.float32) \n",
    "    # preds=a3[torch.arange(batch_size),y[ix]]\n",
    "    # loss=-preds.log().mean()\n",
    "    loss=F.cross_entropy(z4,y_train[ix])\n",
    "    print(loss.item())\n",
    "    for p in parameters:\n",
    "        p.grad=None\n",
    "    loss.backward()\n",
    "    for p in parameters:\n",
    "        p.data -= lr * p.grad\n",
    "\n",
    "    '''lossi.append(loss.item())\n",
    "    lri.append(lr)'''\n"
   ]
  },
  {
   "cell_type": "code",
   "execution_count": 146,
   "id": "f7f08191",
   "metadata": {},
   "outputs": [
    {
     "name": "stdout",
     "output_type": "stream",
     "text": [
      "Training Loss :  1.9929852485656738\n"
     ]
    }
   ],
   "source": [
    "z1=torch.cat(W1[x_train].unbind(1),1)\n",
    "z2= z1 @ W2 + b2\n",
    "a2=z2.tanh()\n",
    "z3= a2 @ W3 + b3\n",
    "a3=z3.tanh()\n",
    "z4= a3 @ W4 + b4\n",
    "loss=F.cross_entropy(z4,y_train)\n",
    "print(\"Training Loss : \",loss.item())"
   ]
  },
  {
   "cell_type": "code",
   "execution_count": 147,
   "id": "bb38f08f",
   "metadata": {},
   "outputs": [
    {
     "name": "stdout",
     "output_type": "stream",
     "text": [
      "Validation Loss :  2.1230406761169434\n"
     ]
    }
   ],
   "source": [
    "z1=torch.cat(W1[x_val].unbind(1),1)\n",
    "z2= z1 @ W2 + b2\n",
    "a2=z2.tanh()\n",
    "z3= a2 @ W3 + b3\n",
    "a3=z3.tanh()\n",
    "z4= a3 @ W4 + b4\n",
    "loss=F.cross_entropy(z4,y_val)\n",
    "print(\"Validation Loss : \",loss.item())"
   ]
  },
  {
   "cell_type": "code",
   "execution_count": null,
   "id": "f58b6838",
   "metadata": {},
   "outputs": [
    {
     "data": {
      "image/png": "[encoded data removed]",
      "text/plain": [
       "<Figure size 800x800 with 1 Axes>"
      ]
     },
     "metadata": {},
     "output_type": "display_data"
    }
   ],
   "source": [
    "\"\"\"plt.figure(figsize=(8,8))\n",
    "plt.scatter(W1[:,0].data,W1[:,1].data,s=200)\n",
    "for i in range(W1.shape[0]):\n",
    "    plt.text(W1[i,0].data,W1[i,1].data,itos[i],ha='center',va='center',color='white')\n",
    "plt.grid('minor')\"\"\""
   ]
  },
  {
   "cell_type": "code",
   "execution_count": 155,
   "id": "118d9146",
   "metadata": {},
   "outputs": [
    {
     "name": "stdout",
     "output_type": "stream",
     "text": [
      "khylo\n"
     ]
    },
    {
     "name": "stderr",
     "output_type": "stream",
     "text": [
      "C:\\Users\\Rikan\\AppData\\Local\\Temp\\ipykernel_13516\\1501279114.py:6: UserWarning: Using a non-tuple sequence for multidimensional indexing is deprecated and will be changed in pytorch 2.9; use x[tuple(seq)] instead of x[seq]. In pytorch 2.9 this will be interpreted as tensor index, x[torch.tensor(seq)], which will result either in an error or a different result (Triggered internally at C:\\actions-runner\\_work\\pytorch\\pytorch\\pytorch\\torch\\csrc\\autograd\\python_variable_indexing.cpp:312.)\n",
      "  z1=torch.cat(W1[[pred_context]].unbind(0),0).unsqueeze(0)\n"
     ]
    }
   ],
   "source": [
    "from torch import multinomial\n",
    "pred_context=[0]*block_size\n",
    "name=''\n",
    "while True:\n",
    "    # First Layer\n",
    "    z1=torch.cat(W1[[pred_context]].unbind(0),0).unsqueeze(0)\n",
    "    # Second Layer with tanh\n",
    "    z2= z1 @ W2 + b2\n",
    "    a2=z2.tanh()\n",
    "\n",
    "    # Third Layer with Softmax\n",
    "    z3= a2 @ W3 + b3\n",
    "    a3=z3.tanh()\n",
    "\n",
    "    z4=a3 @ W4 + b4\n",
    "    a4=z4.softmax(dim=1,dtype=torch.float32)\n",
    "    idx=multinomial(a4,num_samples=1,replacement=True).item()\n",
    "    if idx==0:\n",
    "        break\n",
    "    pred_context=pred_context[1:]+[idx]\n",
    "    name+=itos[idx]\n",
    "print(name)"
   ]
  }
 ],
 "metadata": {
  "kernelspec": {
   "display_name": "Python 3",
   "language": "python",
   "name": "python3"
  },
  "language_info": {
   "codemirror_mode": {
    "name": "ipython",
    "version": 3
   },
   "file_extension": ".py",
   "mimetype": "text/x-python",
   "name": "python",
   "nbconvert_exporter": "python",
   "pygments_lexer": "ipython3",
   "version": "3.13.5"
  }
 },
 "nbformat": 4,
 "nbformat_minor": 5
}
