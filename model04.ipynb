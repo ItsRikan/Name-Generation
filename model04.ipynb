{
 "cells": [
  {
   "cell_type": "code",
   "execution_count": 2,
   "id": "314c6436",
   "metadata": {},
   "outputs": [],
   "source": [
    "import torch\n",
    "import torch.nn.functional as F\n",
    "import matplotlib.pyplot as plt\n",
    "%matplotlib inline"
   ]
  },
  {
   "cell_type": "code",
   "execution_count": 1,
   "id": "5731efbd",
   "metadata": {},
   "outputs": [
    {
     "name": "stdout",
     "output_type": "stream",
     "text": [
      "32033\n",
      "15\n",
      "['emma', 'olivia', 'ava', 'isabella', 'sophia', 'charlotte', 'mia', 'amelia']\n"
     ]
    }
   ],
   "source": [
    "words = open('names.txt', 'r').read().splitlines()\n",
    "print(len(words))\n",
    "print(max(len(w) for w in words))\n",
    "print(words[:8])"
   ]
  },
  {
   "cell_type": "code",
   "execution_count": 3,
   "id": "c1971c7c",
   "metadata": {},
   "outputs": [
    {
     "name": "stdout",
     "output_type": "stream",
     "text": [
      "{1: 'a', 2: 'b', 3: 'c', 4: 'd', 5: 'e', 6: 'f', 7: 'g', 8: 'h', 9: 'i', 10: 'j', 11: 'k', 12: 'l', 13: 'm', 14: 'n', 15: 'o', 16: 'p', 17: 'q', 18: 'r', 19: 's', 20: 't', 21: 'u', 22: 'v', 23: 'w', 24: 'x', 25: 'y', 26: 'z', 0: '.'}\n",
      "27\n"
     ]
    }
   ],
   "source": [
    "chars = sorted(list(set(''.join(words))))\n",
    "stoi = {s:i+1 for i,s in enumerate(chars)}\n",
    "stoi['.'] = 0\n",
    "itos = {i:s for s,i in stoi.items()}\n",
    "vocab_size = len(itos)\n",
    "print(itos)\n",
    "print(vocab_size)"
   ]
  },
  {
   "cell_type": "code",
   "execution_count": 4,
   "id": "dd8bcd41",
   "metadata": {},
   "outputs": [
    {
     "name": "stdout",
     "output_type": "stream",
     "text": [
      "torch.Size([182625, 3]) torch.Size([182625])\n",
      "torch.Size([22655, 3]) torch.Size([22655])\n",
      "torch.Size([22866, 3]) torch.Size([22866])\n"
     ]
    }
   ],
   "source": [
    "block_size = 3\n",
    "\n",
    "def build_dataset(words):  \n",
    "  X, Y = [], []\n",
    "  \n",
    "  for w in words:\n",
    "    context = [0] * block_size\n",
    "    for ch in w + '.':\n",
    "      ix = stoi[ch]\n",
    "      X.append(context)\n",
    "      Y.append(ix)\n",
    "      context = context[1:] + [ix] \n",
    "\n",
    "  X = torch.tensor(X)\n",
    "  Y = torch.tensor(Y)\n",
    "  print(X.shape, Y.shape)\n",
    "  return X, Y\n",
    "\n",
    "import random\n",
    "random.seed(42)\n",
    "random.shuffle(words)\n",
    "n1 = int(0.8*len(words))\n",
    "n2 = int(0.9*len(words))\n",
    "\n",
    "Xtr,  Ytr  = build_dataset(words[:n1])    \n",
    "Xdev, Ydev = build_dataset(words[n1:n2])   \n",
    "Xte,  Yte  = build_dataset(words[n2:])     "
   ]
  },
  {
   "cell_type": "code",
   "execution_count": 5,
   "id": "ecbd58aa",
   "metadata": {},
   "outputs": [],
   "source": [
    "def cmp(s, dt, t):\n",
    "  ex = torch.all(dt == t.grad).item()\n",
    "  app = torch.allclose(dt, t.grad)\n",
    "  maxdiff = (dt - t.grad).abs().max().item()\n",
    "  print(f'{s:15s} | exact: {str(ex):5s} | approximate: {str(app):5s} | maxdiff: {maxdiff}')"
   ]
  },
  {
   "cell_type": "code",
   "execution_count": 6,
   "id": "663c89ab",
   "metadata": {},
   "outputs": [
    {
     "name": "stdout",
     "output_type": "stream",
     "text": [
      "4137\n"
     ]
    }
   ],
   "source": [
    "n_embd = 10 \n",
    "n_hidden = 64 \n",
    "\n",
    "g = torch.Generator().manual_seed(2147483647) \n",
    "C  = torch.randn((vocab_size, n_embd),            generator=g)\n",
    "\n",
    "W1 = torch.randn((n_embd * block_size, n_hidden), generator=g) * (5/3)/((n_embd * block_size)**0.5)\n",
    "b1 = torch.randn(n_hidden,                        generator=g) * 0.1 \n",
    "\n",
    "W2 = torch.randn((n_hidden, vocab_size),          generator=g) * 0.1\n",
    "b2 = torch.randn(vocab_size,                      generator=g) * 0.1\n",
    "\n",
    "bngain = torch.randn((1, n_hidden))*0.1 + 1.0\n",
    "bnbias = torch.randn((1, n_hidden))*0.1\n",
    "\n",
    "\n",
    "\n",
    "parameters = [C, W1, b1, W2, b2, bngain, bnbias]\n",
    "print(sum(p.nelement() for p in parameters))\n",
    "for p in parameters:\n",
    "  p.requires_grad = True"
   ]
  },
  {
   "cell_type": "code",
   "execution_count": 7,
   "id": "99e43a4f",
   "metadata": {},
   "outputs": [],
   "source": [
    "batch_size = 32\n",
    "n = batch_size \n",
    "\n",
    "ix = torch.randint(0, Xtr.shape[0], (batch_size,), generator=g)\n",
    "Xb, Yb = Xtr[ix], Ytr[ix] "
   ]
  },
  {
   "cell_type": "code",
   "execution_count": null,
   "id": "4447b57c",
   "metadata": {},
   "outputs": [
    {
     "data": {
      "text/plain": [
       "tensor(3.3204, grad_fn=<NegBackward0>)"
      ]
     },
     "execution_count": 8,
     "metadata": {},
     "output_type": "execute_result"
    }
   ],
   "source": [
    "\n",
    "emb = C[Xb]\n",
    "embcat = emb.view(emb.shape[0], -1)\n",
    "hprebn = embcat @ W1 + b1 \n",
    "bnmeani = 1/n*hprebn.sum(0, keepdim=True)\n",
    "bndiff = hprebn - bnmeani\n",
    "bndiff2 = bndiff**2\n",
    "bnvar = 1/(n-1)*(bndiff2).sum(0, keepdim=True) \n",
    "bnvar_inv = (bnvar + 1e-5)**-0.5\n",
    "bnraw = bndiff * bnvar_inv\n",
    "hpreact = bngain * bnraw + bnbias\n",
    "\n",
    "h = torch.tanh(hpreact) \n",
    "logits = h @ W2 + b2 \n",
    "logit_maxes = logits.max(1, keepdim=True).values\n",
    "norm_logits = logits - logit_maxes \n",
    "counts = norm_logits.exp()\n",
    "counts_sum = counts.sum(1, keepdims=True)\n",
    "counts_sum_inv = counts_sum**-1 \n",
    "probs = counts * counts_sum_inv\n",
    "logprobs = probs.log()\n",
    "loss = -logprobs[range(n), Yb].mean()\n",
    "\n",
    "for p in parameters:\n",
    "  p.grad = None\n",
    "for t in [logprobs, probs, counts, counts_sum, counts_sum_inv, \n",
    "          norm_logits, logit_maxes, logits, h, hpreact, bnraw,\n",
    "         bnvar_inv, bnvar, bndiff2, bndiff, hprebn, bnmeani,\n",
    "         embcat, emb]:\n",
    "  t.retain_grad()\n",
    "loss.backward()\n",
    "loss"
   ]
  },
  {
   "cell_type": "code",
   "execution_count": 34,
   "id": "22488e62",
   "metadata": {},
   "outputs": [
    {
     "data": {
      "text/plain": [
       "(torch.Size([32, 64]),\n",
       " torch.Size([32, 30]),\n",
       " torch.Size([30, 64]),\n",
       " torch.Size([64]))"
      ]
     },
     "execution_count": 34,
     "metadata": {},
     "output_type": "execute_result"
    }
   ],
   "source": [
    "hprebn.shape, embcat.shape,W1.shape , b1.shape "
   ]
  },
  {
   "cell_type": "code",
   "execution_count": null,
   "id": "d391db75",
   "metadata": {},
   "outputs": [
    {
     "ename": "TypeError",
     "evalue": "reshape(): argument 'shape' failed to unpack the object at pos 2 with error \"type must be tuple of ints,but got float\"",
     "output_type": "error",
     "traceback": [
      "\u001b[31m---------------------------------------------------------------------------\u001b[39m",
      "\u001b[31mTypeError\u001b[39m                                 Traceback (most recent call last)",
      "\u001b[36mCell\u001b[39m\u001b[36m \u001b[39m\u001b[32mIn[39]\u001b[39m\u001b[32m, line 29\u001b[39m\n\u001b[32m     27\u001b[39m dW1 = embcat.T @ dhprebn\n\u001b[32m     28\u001b[39m db1=dhprebn.sum(\u001b[32m0\u001b[39m)\n\u001b[32m---> \u001b[39m\u001b[32m29\u001b[39m demb= \u001b[43mdembcat\u001b[49m\u001b[43m.\u001b[49m\u001b[43mreshape\u001b[49m\u001b[43m(\u001b[49m\u001b[32;43m1\u001b[39;49m\u001b[43m,\u001b[49m\u001b[43membcat\u001b[49m\u001b[43m.\u001b[49m\u001b[43mshape\u001b[49m\u001b[43m[\u001b[49m\u001b[32;43m1\u001b[39;49m\u001b[43m]\u001b[49m\u001b[43m/\u001b[49m\u001b[43mn_embd\u001b[49m\u001b[43m,\u001b[49m\u001b[43mn_embd\u001b[49m\u001b[43m)\u001b[49m\n\u001b[32m     31\u001b[39m \u001b[38;5;28mprint\u001b[39m(demb.shape,emb.shape)\n\u001b[32m     32\u001b[39m \u001b[38;5;66;03m#Checking\u001b[39;00m\n",
      "\u001b[31mTypeError\u001b[39m: reshape(): argument 'shape' failed to unpack the object at pos 2 with error \"type must be tuple of ints,but got float\""
     ]
    }
   ],
   "source": [
    "dlogprobs=torch.zeros_like(logprobs)\n",
    "dlogprobs[range(n),Yb]=-1/n\n",
    "dprobs=1/probs.data * dlogprobs\n",
    "dcounts_sum_inv= (counts * dprobs).sum(1,keepdim=True)\n",
    "dcounts_sum=-(counts_sum**-2) * dcounts_sum_inv\n",
    "dcounts=counts_sum_inv * dprobs +  dcounts_sum\n",
    "dnorm_logits=counts *dcounts\n",
    "dlogit_maxs=-dnorm_logits.sum(1,keepdim=True)\n",
    "dlogits= dnorm_logits.clone()\n",
    "dlogits += F.one_hot(logits.max(1).indices,num_classes=logits.shape[1]) * dlogit_maxs\n",
    "dh = dlogits @ W2.T\n",
    "dW2=  h.T @ dlogits\n",
    "db2= dlogits.sum(0,keepdim=True)\n",
    "dhpreact=(1-h**2) * dh\n",
    "dbngain = (bnraw * dhpreact).sum(0,keepdim=True)\n",
    "dbnraw = bngain * dhpreact\n",
    "dbnbias = dhpreact.sum(0,keepdim=True)\n",
    "dbnvar_inv = (bndiff * dbnraw).sum(0,keepdim=True)\n",
    "dbndiff = (bnvar_inv * dbnraw)\n",
    "dbnvar=-0.5 * (bnvar+1e-5)**-1.5 * dbnvar_inv\n",
    "dbndiff2 = torch.ones_like(bndiff2) * 1/(n-1) * dbnvar\n",
    "dbndiff += 2*bndiff * dbndiff2\n",
    "dhprebn = dbndiff.clone()\n",
    "dbnmeani = - dbndiff.sum(0,keepdim=True)\n",
    "dhprebn += 1/n * dbnmeani\n",
    "dembcat= dhprebn @ W1.T\n",
    "dW1 = embcat.T @ dhprebn\n",
    "db1=dhprebn.sum(0)\n",
    "print(embcat.shape[1]/n_embd)\n",
    "demb= dembcat.reshape(1,embcat.shape[1]/n_embd,n_embd)\n",
    "\n",
    "print(demb.shape,emb.shape)\n",
    "#Checking\n",
    "cmp('logprobs',dlogprobs,logprobs)\n",
    "cmp('probs',dprobs,probs)\n",
    "cmp('counts sum invert',dcounts_sum_inv,counts_sum_inv)\n",
    "cmp('counts sum',dcounts_sum,counts_sum)\n",
    "cmp('counts',dcounts,counts)\n",
    "cmp('norm logits',dnorm_logits,norm_logits)\n",
    "cmp('dlogits max',dlogit_maxs,logit_maxes)\n",
    "cmp('b2',db2,b2)\n",
    "cmp('h',dh,h)\n",
    "cmp('W2',dW2,W2)\n",
    "cmp('hpreact',dhpreact,hpreact)\n",
    "cmp('bnbias',dbnbias,bnbias)\n",
    "cmp('bngain',dbngain,bngain)\n",
    "cmp('bnraw',dbnraw,bnraw)\n",
    "cmp('bnvar_inv',dbnvar_inv,bnvar_inv)\n",
    "cmp('bnvar',dbnvar,bnvar)\n",
    "cmp('bndiff2',dbndiff2,bndiff2)\n",
    "cmp('bndiff',dbndiff,bndiff)\n",
    "cmp('hprebn',dhprebn,hprebn)\n",
    "cmp('bnmeani',dbnmeani,bnmeani)\n",
    "cmp('embcat',dembcat,embcat)\n",
    "cmp('W1',dW1,W1)\n",
    "cmp('b1',db1,b1)\n",
    "cmp('emb',demb,emb)\n",
    "\n",
    "\n"
   ]
  }
 ],
 "metadata": {
  "kernelspec": {
   "display_name": "Python 3",
   "language": "python",
   "name": "python3"
  },
  "language_info": {
   "codemirror_mode": {
    "name": "ipython",
    "version": 3
   },
   "file_extension": ".py",
   "mimetype": "text/x-python",
   "name": "python",
   "nbconvert_exporter": "python",
   "pygments_lexer": "ipython3",
   "version": "3.13.5"
  }
 },
 "nbformat": 4,
 "nbformat_minor": 5
}
