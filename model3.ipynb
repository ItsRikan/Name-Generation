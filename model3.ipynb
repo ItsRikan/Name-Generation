{
 "cells": [
  {
   "cell_type": "code",
   "execution_count": 1,
   "id": "f23d1da4",
   "metadata": {},
   "outputs": [],
   "source": [
    "import torch\n",
    "from torch.nn import functional as F\n",
    "import matplotlib.pyplot as plt\n",
    "from torch import Generator"
   ]
  },
  {
   "cell_type": "code",
   "execution_count": 3,
   "id": "ae774434",
   "metadata": {},
   "outputs": [],
   "source": [
    "vocab_size=27\n",
    "hidden_neurons=200\n",
    "embed_size=4\n",
    "block_size=4\n",
    "batch_size=32\n"
   ]
  },
  {
   "cell_type": "code",
   "execution_count": 44,
   "id": "166b0dbe",
   "metadata": {},
   "outputs": [],
   "source": [
    "class Linear:\n",
    "    def __init__(self,fan_in,fan_out,no_bias=False,seed=276458207):\n",
    "        g=Generator().manual_seed(seed)\n",
    "        self.no_bias = no_bias\n",
    "        self.w=torch.randn((fan_in,fan_out),generator=g) / (fan_in**0.5)\n",
    "        self.b=torch.randn((fan_out,),generator=g)  / (fan_in**0.5)\n",
    "    def __call__(self,X):\n",
    "        self.out= X @ self.w\n",
    "        if not self.no_bias:\n",
    "            self.out += self.b\n",
    "        return self.out\n",
    "    def parameters(self):\n",
    "        parameter = [self.w] if self.no_bias else [self.w , self.b]\n",
    "        return parameter\n",
    "\n",
    "class BatchNorm2D:\n",
    "    def __init__(self,dim,efs=0.01,momentum=0.001,):\n",
    "        self.efs=efs\n",
    "        self.gamma = torch.ones((dim))\n",
    "        self.bitta = torch.zeros((dim))\n",
    "        self.running_mean= torch.zeros((dim))\n",
    "        self.running_var=  torch.ones((dim))\n",
    "        self.training=True\n",
    "    def __call__(self, X:torch.Tensor):\n",
    "        if self.training:\n",
    "            xmean=X.mean(0,keepdim=True)\n",
    "            xvar=X.var(0,keepdim=True)\n",
    "        else:\n",
    "            xmean=self.running_mean\n",
    "            xvar=self.running_var\n",
    "        xstd=torch.sqrt(xvar+self.efs)\n",
    "        self.out=self.gamma * (X-xmean)/xstd + self.bitta\n",
    "        return self.out\n",
    "    \n",
    "    def parmeters(self):\n",
    "        return [self.gamma,self.bitta,self.running_mean,self.running_var]\n",
    "\n",
    "class Tanh:\n",
    "    def __init__(self):\n",
    "        self.out=None\n",
    "    def parameters(self):\n",
    "        return []\n",
    "    def __call__(self, X:torch.Tensor):\n",
    "        self.out = X.tanh()\n",
    "        return self.out"
   ]
  },
  {
   "cell_type": "code",
   "execution_count": null,
   "id": "54f6a325",
   "metadata": {},
   "outputs": [
    {
     "ename": "SyntaxError",
     "evalue": "invalid syntax. Perhaps you forgot a comma? (1864239662.py, line 4)",
     "output_type": "error",
     "traceback": [
      "  \u001b[36mCell\u001b[39m\u001b[36m \u001b[39m\u001b[32mIn[55]\u001b[39m\u001b[32m, line 4\u001b[39m\n\u001b[31m    \u001b[39m\u001b[31mLinear(hidden_neurons , hidden_neurons),BatchNorm2D(hidden_neurons)            Tanh(),\u001b[39m\n                                            ^\n\u001b[31mSyntaxError\u001b[39m\u001b[31m:\u001b[39m invalid syntax. Perhaps you forgot a comma?\n"
     ]
    }
   ],
   "source": [
    "C=torch.randn((vocab_size,embed_size))\n",
    "layers = [\n",
    "    Linear(embed_size * block_size , hidden_neurons),   Tanh(),\n",
    "    Linear(hidden_neurons , hidden_neurons),BatchNorm2D(hidden_neurons),            Tanh(),\n",
    "    Linear(hidden_neurons , hidden_neurons),BatchNorm2D(hidden_neurons),            Tanh(),\n",
    "    Linear(hidden_neurons , hidden_neurons),BatchNorm2D(hidden_neurons),            Tanh(),\n",
    "    Linear(hidden_neurons , vocab_size)\n",
    "]\n",
    "layers[-1].w *= 0.01\n",
    "layers[-1].b *= 0\n",
    "for layer in layers[:]:\n",
    "    if isinstance(layer,Linear):\n",
    "        for p in layer.parameters():\n",
    "            p.requires_grad=True\n",
    "            p.data = p.data * 5/3\n",
    "parameters=[p for layer in layers if isinstance(layer,Linear) for p in layer.parameters()]\n",
    "for p in parameters:\n",
    "    p.requires_grad=True"
   ]
  },
  {
   "cell_type": "code",
   "execution_count": 50,
   "id": "67aa1017",
   "metadata": {},
   "outputs": [
    {
     "name": "stdout",
     "output_type": "stream",
     "text": [
      "Training :  torch.Size([182625, 4]) torch.Size([182625])\n",
      "Validation :  torch.Size([22655, 4]) torch.Size([22655])\n",
      "Testing :  torch.Size([22866, 4]) torch.Size([22866])\n"
     ]
    }
   ],
   "source": [
    "import random\n",
    "names=open('names.txt','r').read().splitlines()\n",
    "chars=sorted(list(set(''.join(names))))\n",
    "stoi={s:i+1 for i,s in enumerate(chars)}\n",
    "stoi['.']=0\n",
    "itos={i:s for s,i in stoi.items()}\n",
    "def build_tensor(words):\n",
    "    X,y=[],[]\n",
    "    for word in words:\n",
    "        word = list(word) + ['.']\n",
    "        context=[0] * block_size\n",
    "        for w in word:\n",
    "            X.append(context)\n",
    "            idx=stoi[w]\n",
    "            y.append(idx)\n",
    "            context=context[1:]+[idx]\n",
    "    X=torch.tensor(X)\n",
    "    y=torch.tensor(y)\n",
    "    return X,y\n",
    "random.seed(42)\n",
    "random.shuffle(names)\n",
    "n1=int(0.8 * len(names))\n",
    "n2=int(0.9 * len(names))\n",
    "\n",
    "x_train,y_train=build_tensor(names[:n1])\n",
    "x_val,y_val=build_tensor(names[n1:n2])\n",
    "x_test,y_test=build_tensor(names[n2:])\n",
    "\n",
    "print(\"Training : \",x_train.shape,y_train.shape)\n",
    "print(\"Validation : \",x_val.shape,y_val.shape)\n",
    "print(\"Testing : \",x_test.shape,y_test.shape)\n"
   ]
  },
  {
   "cell_type": "code",
   "execution_count": 53,
   "id": "1c3b9f28",
   "metadata": {},
   "outputs": [
    {
     "name": "stdout",
     "output_type": "stream",
     "text": [
      "Loss 0 :  2.785698652267456\n",
      "Loss 1000 :  1.8986912965774536\n",
      "Loss 2000 :  2.2364087104797363\n",
      "Loss 3000 :  2.6997342109680176\n",
      "Loss 4000 :  2.2284700870513916\n",
      "Loss 5000 :  2.253441572189331\n",
      "Loss 6000 :  2.5652246475219727\n",
      "Loss 7000 :  2.020052909851074\n",
      "Loss 8000 :  2.285822868347168\n",
      "Loss 9000 :  2.1471149921417236\n",
      "Loss 10000 :  2.18546199798584\n",
      "Loss 11000 :  2.0126514434814453\n",
      "Loss 12000 :  2.3863255977630615\n",
      "Loss 13000 :  2.026317596435547\n",
      "Loss 14000 :  1.9875224828720093\n",
      "Loss 15000 :  2.271369457244873\n",
      "Loss 16000 :  2.0026092529296875\n",
      "Loss 17000 :  2.642554998397827\n",
      "Loss 18000 :  2.379128932952881\n",
      "Loss 19000 :  1.8578203916549683\n",
      "Loss 20000 :  1.973387360572815\n",
      "Loss 21000 :  2.201409101486206\n",
      "Loss 22000 :  2.1102702617645264\n",
      "Loss 23000 :  2.0341856479644775\n",
      "Loss 24000 :  2.0028979778289795\n",
      "Loss 25000 :  2.4378581047058105\n",
      "Loss 26000 :  2.407521963119507\n",
      "Loss 27000 :  2.2185416221618652\n",
      "Loss 28000 :  2.0898263454437256\n",
      "Loss 29000 :  2.181776285171509\n",
      "Loss 30000 :  2.2874622344970703\n",
      "Loss 31000 :  1.9523975849151611\n",
      "Loss 32000 :  1.9582761526107788\n",
      "Loss 33000 :  2.2943382263183594\n",
      "Loss 34000 :  1.901129961013794\n",
      "Loss 35000 :  1.948840856552124\n",
      "Loss 36000 :  2.042771100997925\n",
      "Loss 37000 :  2.271334409713745\n",
      "Loss 38000 :  2.036663055419922\n",
      "Loss 39000 :  2.391439437866211\n",
      "Loss 40000 :  2.487351417541504\n",
      "Loss 41000 :  2.2429556846618652\n",
      "Loss 42000 :  2.236382007598877\n",
      "Loss 43000 :  2.1478288173675537\n",
      "Loss 44000 :  2.130549192428589\n",
      "Loss 45000 :  1.7279107570648193\n",
      "Loss 46000 :  1.7910003662109375\n",
      "Loss 47000 :  2.164876699447632\n",
      "Loss 48000 :  1.936208724975586\n",
      "Loss 49000 :  2.1431336402893066\n",
      "Loss 50000 :  2.4311423301696777\n",
      "Loss 51000 :  2.150938034057617\n",
      "Loss 52000 :  2.0552003383636475\n",
      "Loss 53000 :  1.9877467155456543\n",
      "Loss 54000 :  1.9874645471572876\n",
      "Loss 55000 :  2.0224504470825195\n",
      "Loss 56000 :  1.7213841676712036\n",
      "Loss 57000 :  2.368908166885376\n",
      "Loss 58000 :  1.9389954805374146\n",
      "Loss 59000 :  2.050123691558838\n"
     ]
    }
   ],
   "source": [
    "for i in range (60000):\n",
    "    ix=torch.randint(0,x_train.shape[0],(batch_size,))\n",
    "    X=x_train[ix]\n",
    "    y=y_train[ix]\n",
    "    z=torch.cat(C[X].unbind(1),1)\n",
    "    \n",
    "    lr=0.1 if i<30000 else 0.01\n",
    "    for layer in layers:\n",
    "        z=layer(z)\n",
    "    for p in parameters:\n",
    "        p.grad=None\n",
    "    loss=F.cross_entropy(z,y)\n",
    "    loss.backward()\n",
    "    \n",
    "    for p in parameters:\n",
    "        p.data -= lr * p.grad\n",
    "    if i%1000==0:\n",
    "        print(f\"Loss {i} : \",loss.item())"
   ]
  },
  {
   "cell_type": "code",
   "execution_count": 54,
   "id": "2a9d1c58",
   "metadata": {},
   "outputs": [
    {
     "name": "stdout",
     "output_type": "stream",
     "text": [
      "Layer 2 (      Tanh): mean -0.01 , std 0.61 , saturated 1.98%\n",
      "Layer 4 (      Tanh): mean +0.00 , std 0.85 , saturated 19.83%\n",
      "Layer 6 (      Tanh): mean +0.01 , std 0.89 , saturated 28.25%\n",
      "Layer 8 (      Tanh): mean -0.01 , std 0.76 , saturated 14.23%\n"
     ]
    },
    {
     "data": {
      "image/png": "[encoded data removed]",
      "text/plain": [
       "<Figure size 2000x400 with 1 Axes>"
      ]
     },
     "metadata": {},
     "output_type": "display_data"
    }
   ],
   "source": [
    "plt.figure(figsize=(20,4))\n",
    "legends=[]\n",
    "for i,layer in enumerate(layers[:-1]):\n",
    "    if isinstance(layer,Tanh):\n",
    "        t=layer.out\n",
    "        print(\"Layer %d (%10s): mean %+.2f , std %.2f , saturated %.2f%%\"\n",
    "                % (i,\n",
    "                    layer.__class__.__name__,\n",
    "                    t.mean().item(),\n",
    "                    t.std().item(),\n",
    "                    (t > 0.97).float().mean().item() * 100))\n",
    "        hy,hx=torch.histogram(t,bins=50)\n",
    "        plt.plot(hx[:-1].detach(),hy.detach())\n",
    "        legends.append(f\"Layer {i} ({layer.__class__.__name__})\")\n",
    "plt.legend(legends)\n",
    "plt.show()"
   ]
  },
  {
   "cell_type": "code",
   "execution_count": 13,
   "id": "1f71227d",
   "metadata": {},
   "outputs": [
    {
     "name": "stdout",
     "output_type": "stream",
     "text": [
      "Training Loss =  1.9478812217712402\n",
      "Validation Loss =  2.058687448501587\n",
      "Testing Loss =  2.058717727661133\n"
     ]
    }
   ],
   "source": [
    "#Training\n",
    "z_train=torch.cat(C[x_train].unbind(1),1)\n",
    "for layer in layers:\n",
    "    z_train=layer(z_train)  \n",
    "training_loss=F.cross_entropy(z_train,y_train)\n",
    "\n",
    "# Validation\n",
    "z_val=torch.cat(C[x_val].unbind(1),1)\n",
    "for layer in layers:\n",
    "    z_val=layer(z_val)  \n",
    "validation_loss=F.cross_entropy(z_val,y_val)\n",
    "\n",
    "#Testing\n",
    "z_test=torch.cat(C[x_test].unbind(1),1)\n",
    "for layer in layers:\n",
    "    z_test=layer(z_test)  \n",
    "testing_loss=F.cross_entropy(z_test,y_test)\n",
    "\n",
    "\n",
    "print(\"Training Loss = \",training_loss.item())\n",
    "print(\"Validation Loss = \",validation_loss.item())\n",
    "print(\"Testing Loss = \",testing_loss.item())"
   ]
  },
  {
   "cell_type": "markdown",
   "id": "1ff8cd9e",
   "metadata": {},
   "source": [
    "# Loss Markdown\n",
    "### Test 1\n",
    "Training Loss =  1.9478812217712402 \n",
    "Validation Loss =  2.058687448501587\n",
    "Testing Loss =  2.058717727661133"
   ]
  }
 ],
 "metadata": {
  "kernelspec": {
   "display_name": "Python 3",
   "language": "python",
   "name": "python3"
  },
  "language_info": {
   "codemirror_mode": {
    "name": "ipython",
    "version": 3
   },
   "file_extension": ".py",
   "mimetype": "text/x-python",
   "name": "python",
   "nbconvert_exporter": "python",
   "pygments_lexer": "ipython3",
   "version": "3.13.5"
  }
 },
 "nbformat": 4,
 "nbformat_minor": 5
}
